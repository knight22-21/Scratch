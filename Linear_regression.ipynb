{
 "cells": [
  {
   "cell_type": "code",
   "execution_count": 97,
   "id": "b299cfb4-8c9f-4272-b00e-847978632c2d",
   "metadata": {},
   "outputs": [],
   "source": [
    "# Simple Linear Regression"
   ]
  },
  {
   "cell_type": "code",
   "execution_count": 87,
   "id": "20ff35c7-481b-4b10-a599-9f1667ec7d88",
   "metadata": {},
   "outputs": [],
   "source": [
    "class lr:\n",
    "    def __init__(self):\n",
    "        self.m = None\n",
    "        self.b = None\n",
    "\n",
    "    def fit(self, X, Y):\n",
    "        X_mean = sum(X) / len(X)\n",
    "        Y_mean = sum(Y) / len(Y)\n",
    "\n",
    "        num = 0\n",
    "        den = 0\n",
    "        for i in range(len(X)):\n",
    "            num += (X[i] - X_mean) * (Y[i] - Y_mean)\n",
    "            den += (X[i] - X_mean) ** 2\n",
    "\n",
    "        self.m = num / den\n",
    "        self.b = Y_mean - (self.m * X_mean)\n",
    "\n",
    "        print(\"Slope (m):\", self.m)\n",
    "        print(\"Intercept (b):\", self.b)\n",
    "\n",
    "    def predict(self, x):\n",
    "        return (self.m * x) + self.b\n"
   ]
  },
  {
   "cell_type": "code",
   "execution_count": 89,
   "id": "72f34057-ac21-4bbe-8d87-c979beca90a1",
   "metadata": {},
   "outputs": [],
   "source": [
    "X=[1, 2, 3, 4, 5, 6, 7, 8, 9, 10]\n",
    "y=[5, 8, 11, 14, 17, 20, 23, 26, 29, 32]\n"
   ]
  },
  {
   "cell_type": "code",
   "execution_count": 91,
   "id": "b346994b-caa9-4fc7-b8e4-b0f26cfd5631",
   "metadata": {},
   "outputs": [],
   "source": [
    "model=lr()"
   ]
  },
  {
   "cell_type": "code",
   "execution_count": 93,
   "id": "feb926ec-878f-43cb-a063-f1747793f7a2",
   "metadata": {},
   "outputs": [
    {
     "name": "stdout",
     "output_type": "stream",
     "text": [
      "Slope (m): 3.0\n",
      "Intercept (b): 2.0\n"
     ]
    }
   ],
   "source": [
    "model.fit(X,y)"
   ]
  },
  {
   "cell_type": "code",
   "execution_count": 95,
   "id": "6e6692da-44c0-4195-a0a8-08a3ef6c8862",
   "metadata": {},
   "outputs": [
    {
     "name": "stdout",
     "output_type": "stream",
     "text": [
      "Prediction for x = 9: 29.0\n"
     ]
    }
   ],
   "source": [
    "print(\"Prediction for x = 9:\", model.predict(9))"
   ]
  },
  {
   "cell_type": "code",
   "execution_count": null,
   "id": "c8a6c904-629f-4d53-b54b-41192b9d2480",
   "metadata": {},
   "outputs": [],
   "source": []
  },
  {
   "cell_type": "code",
   "execution_count": null,
   "id": "e3eb2f3a-435e-4c7a-92b7-62a376230bbd",
   "metadata": {},
   "outputs": [],
   "source": []
  },
  {
   "cell_type": "code",
   "execution_count": null,
   "id": "a627e240-b1eb-4f85-86f1-646eeccd0108",
   "metadata": {},
   "outputs": [],
   "source": []
  },
  {
   "cell_type": "code",
   "execution_count": 104,
   "id": "36b3c5f7-3bde-4e4b-972b-ab0d5784b343",
   "metadata": {},
   "outputs": [],
   "source": [
    "# Multiple regression"
   ]
  },
  {
   "cell_type": "code",
   "execution_count": 126,
   "id": "c54244ac-0df9-4fa2-8271-5f6cbadcaf1b",
   "metadata": {},
   "outputs": [],
   "source": [
    "import numpy as np\n",
    "\n",
    "class mlr:\n",
    "    def __init__(self):\n",
    "        self.coe_=None\n",
    "        self.inter_=None\n",
    "    def fit(self,X,Y):\n",
    "        X=np.insert(X,0,1,axis=1)\n",
    "        alpha=np.linalg.inv(np.dot(X.T,X)).dot(X.T).dot(Y)\n",
    "        self.coe_=alpha[1:]\n",
    "        self.inter_=alpha[0]\n",
    "        print(\"Coefficients (m):\", self.coe_)\n",
    "        print(\"Intercept (b):\", self.inter_)\n",
    "        \n",
    "    def predict(self,x):\n",
    "        return np.dot(x,self.coe_)+self.inter_\n",
    "    "
   ]
  },
  {
   "cell_type": "code",
   "execution_count": 128,
   "id": "64cd80c0-5c65-42f8-b5a8-76e28ec6969c",
   "metadata": {},
   "outputs": [
    {
     "name": "stdout",
     "output_type": "stream",
     "text": [
      "Coefficients (m): [4. 3.]\n",
      "Intercept (b): 5.000000000000198\n"
     ]
    }
   ],
   "source": [
    "X = np.array([\n",
    "    [1, 1],\n",
    "    [2, 1],\n",
    "    [3, 2],\n",
    "    [4, 3],\n",
    "    [5, 3],\n",
    "    [6, 4],\n",
    "    [7, 5]\n",
    "])\n",
    "\n",
    "Y = np.array([12, 16, 23, 30, 34, 41, 48])\n",
    "\n",
    "model = mlr()\n",
    "model.fit(X, Y)"
   ]
  },
  {
   "cell_type": "code",
   "execution_count": 132,
   "id": "87a3886d-3a5d-4973-9232-005692b0f919",
   "metadata": {},
   "outputs": [
    {
     "name": "stdout",
     "output_type": "stream",
     "text": [
      "Predicted price: [41.]\n"
     ]
    }
   ],
   "source": [
    "print(\"Predicted price:\", model.predict(np.array([[6, 4]])))"
   ]
  },
  {
   "cell_type": "code",
   "execution_count": null,
   "id": "e0d15701-d8b7-4cce-b551-085c224b482c",
   "metadata": {},
   "outputs": [],
   "source": []
  },
  {
   "cell_type": "code",
   "execution_count": null,
   "id": "2027366a-df95-4048-8a02-b0184ab9852f",
   "metadata": {},
   "outputs": [],
   "source": []
  },
  {
   "cell_type": "code",
   "execution_count": null,
   "id": "ec54b32c-856a-4015-9692-ac5c38ee6ec2",
   "metadata": {},
   "outputs": [],
   "source": []
  },
  {
   "cell_type": "code",
   "execution_count": null,
   "id": "ccb0fee0-b0a0-4771-b14f-7a0aee7dbc5d",
   "metadata": {},
   "outputs": [],
   "source": []
  }
 ],
 "metadata": {
  "kernelspec": {
   "display_name": "Python [conda env:base] *",
   "language": "python",
   "name": "conda-base-py"
  },
  "language_info": {
   "codemirror_mode": {
    "name": "ipython",
    "version": 3
   },
   "file_extension": ".py",
   "mimetype": "text/x-python",
   "name": "python",
   "nbconvert_exporter": "python",
   "pygments_lexer": "ipython3",
   "version": "3.11.11"
  }
 },
 "nbformat": 4,
 "nbformat_minor": 5
}
