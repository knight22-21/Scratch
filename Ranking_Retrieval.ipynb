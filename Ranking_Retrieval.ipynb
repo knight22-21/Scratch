{
 "cells": [
  {
   "cell_type": "code",
   "execution_count": 3,
   "id": "760a9134-7ff9-4d52-b2f8-3b2762ddd605",
   "metadata": {},
   "outputs": [],
   "source": [
    "def precision_at_k(recommended, relevant, k):\n",
    "    recommended_at_k = recommended[:k]\n",
    "    relevant_set = set(relevant)\n",
    "    hits = 0\n",
    "\n",
    "    for item in recommended_at_k:\n",
    "        if item in relevant_set:\n",
    "            hits += 1\n",
    "\n",
    "    precision = hits / k\n",
    "    return precision\n"
   ]
  },
  {
   "cell_type": "code",
   "execution_count": 5,
   "id": "4d28b0cc-d150-4cf9-8299-96bc78cdd9ef",
   "metadata": {},
   "outputs": [],
   "source": [
    "def recall_at_k(recommended, relevant, k):\n",
    "    recommended_at_k = recommended[:k]\n",
    "    relevant_set = set(relevant)\n",
    "    hits = 0\n",
    "\n",
    "    for item in recommended_at_k:\n",
    "        if item in relevant_set:\n",
    "            hits += 1\n",
    "\n",
    "    recall = hits / len(relevant) if relevant else 0\n",
    "    return recall\n"
   ]
  },
  {
   "cell_type": "code",
   "execution_count": 7,
   "id": "019d50c9-ff96-4333-a6c9-0031d3838da6",
   "metadata": {},
   "outputs": [],
   "source": [
    "def average_precision(recommended, relevant):\n",
    "    relevant_set = set(relevant)\n",
    "    hits = 0\n",
    "    sum_precisions = 0.0\n",
    "\n",
    "    for i, item in enumerate(recommended):\n",
    "        if item in relevant_set:\n",
    "            hits += 1\n",
    "            precision_at_i = hits / (i + 1)\n",
    "            sum_precisions += precision_at_i\n",
    "\n",
    "    if hits == 0:\n",
    "        return 0.0\n",
    "\n",
    "    return sum_precisions / len(relevant)\n"
   ]
  },
  {
   "cell_type": "code",
   "execution_count": 9,
   "id": "22e884ad-8605-4700-a93b-dc6675d9c8b5",
   "metadata": {},
   "outputs": [],
   "source": [
    "def mean_average_precision(all_recommended, all_relevant):\n",
    "    ap_list = []\n",
    "\n",
    "    for recommended, relevant in zip(all_recommended, all_relevant):\n",
    "        ap = average_precision(recommended, relevant)\n",
    "        ap_list.append(ap)\n",
    "\n",
    "    map_score = sum(ap_list) / len(ap_list) if ap_list else 0.0\n",
    "    return map_score\n"
   ]
  },
  {
   "cell_type": "code",
   "execution_count": 11,
   "id": "5fe86e9d-8366-44a2-809e-08eb3f224fdb",
   "metadata": {},
   "outputs": [
    {
     "name": "stdout",
     "output_type": "stream",
     "text": [
      "Precision@k: 0.3333333333333333\n",
      "Recall@k: 0.3333333333333333\n",
      "AP: 0.3333333333333333\n"
     ]
    }
   ],
   "source": [
    "# Example for a single user\n",
    "recommended = ['A', 'B', 'C', 'D', 'E']\n",
    "relevant = ['B', 'D', 'F']\n",
    "\n",
    "k = 3\n",
    "print(\"Precision@k:\", precision_at_k(recommended, relevant, k))  # Output: 1/3\n",
    "print(\"Recall@k:\", recall_at_k(recommended, relevant, k))        # Output: 1/3\n",
    "print(\"AP:\", average_precision(recommended, relevant))           # Should be > 0\n"
   ]
  },
  {
   "cell_type": "code",
   "execution_count": 13,
   "id": "499ed10a-fbc3-4f53-9b3c-fc856a3feec3",
   "metadata": {},
   "outputs": [
    {
     "name": "stdout",
     "output_type": "stream",
     "text": [
      "MAP: 0.4444444444444444\n"
     ]
    }
   ],
   "source": [
    "# Example for multiple users\n",
    "all_recommended = [\n",
    "    ['A', 'B', 'C', 'D'],    # user 1\n",
    "    ['X', 'Y', 'Z'],         # user 2\n",
    "    ['L', 'M', 'N', 'O']     # user 3\n",
    "]\n",
    "\n",
    "all_relevant = [\n",
    "    ['B', 'D'],              # user 1\n",
    "    ['Y'],                   # user 2\n",
    "    ['M', 'O', 'Q']          # user 3\n",
    "]\n",
    "\n",
    "print(\"MAP:\", mean_average_precision(all_recommended, all_relevant))\n"
   ]
  },
  {
   "cell_type": "code",
   "execution_count": null,
   "id": "fe6859dd-f01b-4c89-9682-6718e627ae23",
   "metadata": {},
   "outputs": [],
   "source": []
  }
 ],
 "metadata": {
  "kernelspec": {
   "display_name": "Python [conda env:base] *",
   "language": "python",
   "name": "conda-base-py"
  },
  "language_info": {
   "codemirror_mode": {
    "name": "ipython",
    "version": 3
   },
   "file_extension": ".py",
   "mimetype": "text/x-python",
   "name": "python",
   "nbconvert_exporter": "python",
   "pygments_lexer": "ipython3",
   "version": "3.11.11"
  }
 },
 "nbformat": 4,
 "nbformat_minor": 5
}
