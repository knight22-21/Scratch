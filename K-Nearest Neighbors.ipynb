{
 "cells": [
  {
   "cell_type": "code",
   "execution_count": 2,
   "id": "01403512-400f-4925-bf32-facc76a97db0",
   "metadata": {},
   "outputs": [],
   "source": [
    "import numpy as np\n",
    "from collections import Counter"
   ]
  },
  {
   "cell_type": "code",
   "execution_count": 4,
   "id": "fada4d76-c15e-48a9-b2ac-66fa99ecc7e6",
   "metadata": {},
   "outputs": [],
   "source": [
    "def euclidean(x1,x2):\n",
    "    return np.sqrt(np.sum((x1-x2)**2))"
   ]
  },
  {
   "cell_type": "code",
   "execution_count": 28,
   "id": "fe682436-6c4b-4766-8df1-0c2bee4501a8",
   "metadata": {},
   "outputs": [],
   "source": [
    "class knn:\n",
    "    def __init__(self,k):\n",
    "        self.k=k\n",
    "\n",
    "    def fit(self,X,y):\n",
    "        self.X_train=X\n",
    "        self.y_train=y\n",
    "\n",
    "    def predict(self,x):\n",
    "        distances=[]\n",
    "        for i in range(len(self.X_train)):\n",
    "            dist=euclidean(x,self.X_train[i])\n",
    "            distances.append((dist, self.y_train[i]))\n",
    "\n",
    "        distances.sort(key=lambda x:x[0])\n",
    "\n",
    "        k_nearest_neigh= [label for (_,label) in distances[:self.k]]\n",
    "\n",
    "        return Counter(k_nearest_neigh).most_common(1)[0][0]\n",
    "    "
   ]
  },
  {
   "cell_type": "code",
   "execution_count": 30,
   "id": "839cb99f-2a63-4a02-a761-bb8f109befc9",
   "metadata": {},
   "outputs": [],
   "source": [
    "\n",
    "X_train = np.array([\n",
    "    [30, 60],\n",
    "    [5, 25],\n",
    "    [35, 70],\n",
    "    [6, 20]\n",
    "])\n",
    "\n",
    "y_train = np.array(['dog', 'cat', 'dog', 'cat'])\n",
    "\n",
    "# Test point (new animal)\n",
    "X_test = np.array([28, 63])\n"
   ]
  },
  {
   "cell_type": "code",
   "execution_count": 32,
   "id": "e37145ca-b6a6-4a29-91af-46098bf0fa04",
   "metadata": {},
   "outputs": [
    {
     "name": "stdout",
     "output_type": "stream",
     "text": [
      "Predicted class: dog\n"
     ]
    }
   ],
   "source": [
    "# Initialize classifier with K = 3\n",
    "knn = knn(k=3)\n",
    "\n",
    "# Fit training data\n",
    "knn.fit(X_train, y_train)\n",
    "\n",
    "# Predict for the test point\n",
    "prediction = knn.predict(X_test)\n",
    "print(\"Predicted class:\", prediction)\n"
   ]
  },
  {
   "cell_type": "code",
   "execution_count": null,
   "id": "f2feeaa5-ba20-4c2a-abc7-675153b253f7",
   "metadata": {},
   "outputs": [],
   "source": []
  }
 ],
 "metadata": {
  "kernelspec": {
   "display_name": "Python [conda env:base] *",
   "language": "python",
   "name": "conda-base-py"
  },
  "language_info": {
   "codemirror_mode": {
    "name": "ipython",
    "version": 3
   },
   "file_extension": ".py",
   "mimetype": "text/x-python",
   "name": "python",
   "nbconvert_exporter": "python",
   "pygments_lexer": "ipython3",
   "version": "3.11.11"
  }
 },
 "nbformat": 4,
 "nbformat_minor": 5
}
