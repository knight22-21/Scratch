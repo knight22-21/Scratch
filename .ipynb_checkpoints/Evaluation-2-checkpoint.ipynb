{
 "cells": [
  {
   "cell_type": "code",
   "execution_count": 1,
   "id": "d71e859e-6ac5-4a4c-93d5-207d5ab98f5c",
   "metadata": {},
   "outputs": [],
   "source": [
    "def confusion_matrix(y_true, y_prob, threshold=0.5):\n",
    "    TP = FP = TN = FN = 0\n",
    "\n",
    "    for true, prob in zip(y_true, y_prob):\n",
    "        pred = 1 if prob >= threshold else 0\n",
    "        if pred == 1 and true == 1:\n",
    "            TP += 1\n",
    "        elif pred == 1 and true == 0:\n",
    "            FP += 1\n",
    "        elif pred == 0 and true == 0:\n",
    "            TN += 1\n",
    "        elif pred == 0 and true == 1:\n",
    "            FN += 1\n",
    "\n",
    "    return {'TP': TP, 'FP': FP, 'TN': TN, 'FN': FN}\n"
   ]
  },
  {
   "cell_type": "code",
   "execution_count": 3,
   "id": "40831f6a-b22a-44e8-a592-722624707af3",
   "metadata": {},
   "outputs": [],
   "source": [
    "def roc_curve_points(y_true, y_prob):\n",
    "    thresholds = sorted(set(y_prob), reverse=True)\n",
    "    roc_points = []\n",
    "\n",
    "    for threshold in thresholds:\n",
    "        cm = confusion_matrix(y_true, y_prob, threshold)\n",
    "        TP = cm['TP']\n",
    "        FP = cm['FP']\n",
    "        TN = cm['TN']\n",
    "        FN = cm['FN']\n",
    "\n",
    "        TPR = TP / (TP + FN) if (TP + FN) != 0 else 0  # Sensitivity\n",
    "        FPR = FP / (FP + TN) if (FP + TN) != 0 else 0  # 1 - Specificity\n",
    "\n",
    "        roc_points.append((FPR, TPR))\n",
    "\n",
    "    roc_points.append((0, 0))  # Add point (0,0) at the end\n",
    "    roc_points = sorted(roc_points)  # Sort by FPR (x-axis)\n",
    "    return roc_points\n"
   ]
  },
  {
   "cell_type": "code",
   "execution_count": 5,
   "id": "7e915907-a4a9-4bff-bb96-7c9458cec517",
   "metadata": {},
   "outputs": [],
   "source": [
    "def auc_score(y_true, y_prob):\n",
    "    roc = roc_curve_points(y_true, y_prob)\n",
    "    auc = 0.0\n",
    "    for i in range(1, len(roc)):\n",
    "        x1, y1 = roc[i-1]\n",
    "        x2, y2 = roc[i]\n",
    "        auc += (x2 - x1) * (y1 + y2) / 2  # trapezoid area\n",
    "\n",
    "    return auc\n"
   ]
  },
  {
   "cell_type": "code",
   "execution_count": 7,
   "id": "9c5f8bd4-ffbd-48a2-acac-a4608321865b",
   "metadata": {},
   "outputs": [],
   "source": [
    "import math\n",
    "\n",
    "def log_loss(y_true, y_prob, eps=1e-15):\n",
    "    total_loss = 0.0\n",
    "    n = len(y_true)\n",
    "\n",
    "    for y, p in zip(y_true, y_prob):\n",
    "        # Clipping to avoid log(0)\n",
    "        p = min(max(p, eps), 1 - eps)\n",
    "        loss = - (y * math.log(p) + (1 - y) * math.log(1 - p))\n",
    "        total_loss += loss\n",
    "\n",
    "    return total_loss / n\n"
   ]
  },
  {
   "cell_type": "code",
   "execution_count": 9,
   "id": "01f47e86-ec0a-406c-99c1-a470f6f9018d",
   "metadata": {},
   "outputs": [
    {
     "name": "stdout",
     "output_type": "stream",
     "text": [
      "Confusion Matrix: {'TP': 1, 'FP': 0, 'TN': 2, 'FN': 1}\n",
      "ROC Points: [(0, 0), (0.0, 0.5), (0.5, 0.5), (0.5, 1.0), (1.0, 1.0)]\n",
      "AUC Score: 0.75\n",
      "Log Loss: 0.47228795380917615\n"
     ]
    }
   ],
   "source": [
    "y_true = [0, 0, 1, 1]\n",
    "y_prob = [0.1, 0.4, 0.35, 0.8]\n",
    "\n",
    "print(\"Confusion Matrix:\", confusion_matrix(y_true, y_prob, threshold=0.5))\n",
    "print(\"ROC Points:\", roc_curve_points(y_true, y_prob))\n",
    "print(\"AUC Score:\", auc_score(y_true, y_prob))\n",
    "print(\"Log Loss:\", log_loss(y_true, y_prob))\n"
   ]
  },
  {
   "cell_type": "code",
   "execution_count": null,
   "id": "93aeb7c4-bfd9-46f4-9f28-09a28fbaeb8c",
   "metadata": {},
   "outputs": [],
   "source": []
  }
 ],
 "metadata": {
  "kernelspec": {
   "display_name": "Python [conda env:base] *",
   "language": "python",
   "name": "conda-base-py"
  },
  "language_info": {
   "codemirror_mode": {
    "name": "ipython",
    "version": 3
   },
   "file_extension": ".py",
   "mimetype": "text/x-python",
   "name": "python",
   "nbconvert_exporter": "python",
   "pygments_lexer": "ipython3",
   "version": "3.11.11"
  }
 },
 "nbformat": 4,
 "nbformat_minor": 5
}
