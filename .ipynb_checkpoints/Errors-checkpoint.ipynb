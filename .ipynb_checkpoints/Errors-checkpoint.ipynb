{
 "cells": [
  {
   "cell_type": "code",
   "execution_count": 1,
   "id": "d8a72a4a-b9d1-48ee-bf65-76e47e9e981c",
   "metadata": {},
   "outputs": [],
   "source": [
    "def mean_squared_error(y_true, y_pred):\n",
    "    n = len(y_true)\n",
    "    total_error = 0.0\n",
    "    for i in range(n):\n",
    "        error = y_true[i] - y_pred[i]\n",
    "        total_error += error ** 2\n",
    "    mse = total_error / n\n",
    "    return mse\n"
   ]
  },
  {
   "cell_type": "code",
   "execution_count": 3,
   "id": "8e425c45-4fba-45ef-a814-91921b6d0bb7",
   "metadata": {},
   "outputs": [],
   "source": [
    "def mean_absolute_error(y_true, y_pred):\n",
    "    n = len(y_true)\n",
    "    total_error = 0.0\n",
    "    for i in range(n):\n",
    "        error = abs(y_true[i] - y_pred[i])\n",
    "        total_error += error\n",
    "    mae = total_error / n\n",
    "    return mae\n"
   ]
  },
  {
   "cell_type": "code",
   "execution_count": 11,
   "id": "04b56bc5-4895-4729-a3b6-46c3f5b9def1",
   "metadata": {},
   "outputs": [],
   "source": [
    "import math\n",
    "\n",
    "def binary_cross_entropy(y_true, y_pred, epsilon=1e-15):\n",
    "    n = len(y_true)\n",
    "    total_loss = 0.0\n",
    "    for i in range(n):\n",
    "        p = min(max(y_pred[i], epsilon), 1 - epsilon)\n",
    "        loss = y_true[i] * math.log(p) + (1 - y_true[i]) * math.log(1 - p)\n",
    "        total_loss += loss\n",
    "    bce = -total_loss / n\n",
    "    return bce\n"
   ]
  },
  {
   "cell_type": "code",
   "execution_count": 13,
   "id": "798c5e34-2000-41ec-b709-d096d0dfba49",
   "metadata": {},
   "outputs": [],
   "source": [
    "def huber_loss(y_true, y_pred, delta=1.0):\n",
    "    n = len(y_true)\n",
    "    total_loss = 0.0\n",
    "    for i in range(n):\n",
    "        error = y_true[i] - y_pred[i]\n",
    "        abs_error = abs(error)\n",
    "        if abs_error <= delta:\n",
    "            total_loss += 0.5 * error ** 2\n",
    "        else:\n",
    "            total_loss += delta * (abs_error - 0.5 * delta)\n",
    "    return total_loss / n\n"
   ]
  },
  {
   "cell_type": "code",
   "execution_count": 15,
   "id": "d410a0fb-3155-4d5b-bd11-7582f7da652e",
   "metadata": {},
   "outputs": [
    {
     "name": "stdout",
     "output_type": "stream",
     "text": [
      "MSE: 0.0625\n",
      "MAE: 0.22499999999999998\n",
      "Binary Cross-Entropy: 0.2656183105130591\n",
      "Huber Loss: 0.03125\n"
     ]
    }
   ],
   "source": [
    "# Sample\n",
    "y_true = [1, 0, 1, 1]\n",
    "y_pred = [0.9, 0.2, 0.8, 0.6]\n",
    "\n",
    "print(\"MSE:\", mean_squared_error(y_true, y_pred))\n",
    "print(\"MAE:\", mean_absolute_error(y_true, y_pred))\n",
    "print(\"Binary Cross-Entropy:\", binary_cross_entropy(y_true, y_pred))\n",
    "print(\"Huber Loss:\", huber_loss(y_true, y_pred, delta=1.0))\n"
   ]
  },
  {
   "cell_type": "code",
   "execution_count": null,
   "id": "bd475558-0b1f-45ca-84bd-868af1934c80",
   "metadata": {},
   "outputs": [],
   "source": []
  }
 ],
 "metadata": {
  "kernelspec": {
   "display_name": "Python [conda env:base] *",
   "language": "python",
   "name": "conda-base-py"
  },
  "language_info": {
   "codemirror_mode": {
    "name": "ipython",
    "version": 3
   },
   "file_extension": ".py",
   "mimetype": "text/x-python",
   "name": "python",
   "nbconvert_exporter": "python",
   "pygments_lexer": "ipython3",
   "version": "3.11.11"
  }
 },
 "nbformat": 4,
 "nbformat_minor": 5
}
