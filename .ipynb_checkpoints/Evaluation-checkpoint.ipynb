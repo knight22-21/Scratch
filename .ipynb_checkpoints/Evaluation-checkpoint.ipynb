{
 "cells": [
  {
   "cell_type": "code",
   "execution_count": 1,
   "id": "9d3d304d-85a4-4a54-b6a1-9bb957709ae2",
   "metadata": {},
   "outputs": [],
   "source": [
    "y_true = [1, 0, 1, 1, 0, 1, 0, 0, 1, 0]  # Actual values\n",
    "y_pred = [1, 0, 1, 0, 0, 1, 0, 1, 1, 0]  # Predicted values\n"
   ]
  },
  {
   "cell_type": "code",
   "execution_count": 3,
   "id": "5d774b0e-a7f8-4255-990f-08ad7ac76a4a",
   "metadata": {},
   "outputs": [],
   "source": [
    "def confusion_counts(y_true, y_pred):\n",
    "    TP = TN = FP = FN = 0\n",
    "    for true, pred in zip(y_true, y_pred):\n",
    "        if true == 1 and pred == 1:\n",
    "            TP += 1\n",
    "        elif true == 0 and pred == 0:\n",
    "            TN += 1\n",
    "        elif true == 0 and pred == 1:\n",
    "            FP += 1\n",
    "        elif true == 1 and pred == 0:\n",
    "            FN += 1\n",
    "    return TP, TN, FP, FN\n"
   ]
  },
  {
   "cell_type": "code",
   "execution_count": 5,
   "id": "130e131c-a753-47b7-b9e4-812e016b0ff5",
   "metadata": {},
   "outputs": [],
   "source": [
    "def accuracy_score(y_true, y_pred):\n",
    "    TP, TN, FP, FN = confusion_counts(y_true, y_pred)\n",
    "    total = TP + TN + FP + FN\n",
    "    return (TP + TN) / total\n"
   ]
  },
  {
   "cell_type": "code",
   "execution_count": 7,
   "id": "46b058ba-a3da-4fb1-830c-eac71ef3f0c2",
   "metadata": {},
   "outputs": [],
   "source": [
    "def precision_score(y_true, y_pred):\n",
    "    TP, _, FP, _ = confusion_counts(y_true, y_pred)\n",
    "    if TP + FP == 0:\n",
    "        return 0.0  # To avoid division by zero\n",
    "    return TP / (TP + FP)\n"
   ]
  },
  {
   "cell_type": "code",
   "execution_count": 9,
   "id": "3b70879e-240d-459c-a838-cd36e5a4ce27",
   "metadata": {},
   "outputs": [],
   "source": [
    "def recall_score(y_true, y_pred):\n",
    "    TP, _, _, FN = confusion_counts(y_true, y_pred)\n",
    "    if TP + FN == 0:\n",
    "        return 0.0\n",
    "    return TP / (TP + FN)\n"
   ]
  },
  {
   "cell_type": "code",
   "execution_count": 11,
   "id": "393a49a5-cd9d-44dd-ba68-c87ba0d04347",
   "metadata": {},
   "outputs": [],
   "source": [
    "def f1_score(y_true, y_pred):\n",
    "    precision = precision_score(y_true, y_pred)\n",
    "    recall = recall_score(y_true, y_pred)\n",
    "    if precision + recall == 0:\n",
    "        return 0.0\n",
    "    return 2 * (precision * recall) / (precision + recall)\n"
   ]
  },
  {
   "cell_type": "code",
   "execution_count": 13,
   "id": "5d1b95f6-540f-42fe-bbfd-d3c960569c58",
   "metadata": {},
   "outputs": [
    {
     "name": "stdout",
     "output_type": "stream",
     "text": [
      "Accuracy: 0.8\n",
      "Precision: 0.8\n",
      "Recall: 0.8\n",
      "F1 Score: 0.8000000000000002\n"
     ]
    }
   ],
   "source": [
    "y_true = [1, 0, 1, 1, 0, 1, 0, 0, 1, 0]\n",
    "y_pred = [1, 0, 1, 0, 0, 1, 0, 1, 1, 0]\n",
    "\n",
    "print(\"Accuracy:\", accuracy_score(y_true, y_pred))\n",
    "print(\"Precision:\", precision_score(y_true, y_pred))\n",
    "print(\"Recall:\", recall_score(y_true, y_pred))\n",
    "print(\"F1 Score:\", f1_score(y_true, y_pred))\n"
   ]
  },
  {
   "cell_type": "code",
   "execution_count": null,
   "id": "782641a5-52d7-4cce-8c68-b3e0c8a3012d",
   "metadata": {},
   "outputs": [],
   "source": []
  }
 ],
 "metadata": {
  "kernelspec": {
   "display_name": "Python [conda env:base] *",
   "language": "python",
   "name": "conda-base-py"
  },
  "language_info": {
   "codemirror_mode": {
    "name": "ipython",
    "version": 3
   },
   "file_extension": ".py",
   "mimetype": "text/x-python",
   "name": "python",
   "nbconvert_exporter": "python",
   "pygments_lexer": "ipython3",
   "version": "3.11.11"
  }
 },
 "nbformat": 4,
 "nbformat_minor": 5
}
