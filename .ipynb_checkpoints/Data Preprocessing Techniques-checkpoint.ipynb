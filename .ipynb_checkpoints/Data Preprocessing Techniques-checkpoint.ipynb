{
 "cells": [
  {
   "cell_type": "code",
   "execution_count": 1,
   "id": "e3b2758b-fa62-451a-a7ed-2efad07e0195",
   "metadata": {},
   "outputs": [],
   "source": [
    "# Each row is a record; columns: [Height (cm), Weight (kg), Age (years)]\n",
    "data = [\n",
    "    [170, 65, 25],\n",
    "    [160, 70, None],\n",
    "    [180, None, 35],\n",
    "    [165, 60, 28],\n",
    "    [175, 75, 32]\n",
    "]\n"
   ]
  },
  {
   "cell_type": "code",
   "execution_count": 3,
   "id": "c75a3d13-734b-4e1e-ab51-085a9f30dcb3",
   "metadata": {},
   "outputs": [
    {
     "name": "stdout",
     "output_type": "stream",
     "text": [
      "After handling missing values:\n",
      "[170, 65, 25]\n",
      "[160, 70, 30.0]\n",
      "[180, 67.5, 35]\n",
      "[165, 60, 28]\n",
      "[175, 75, 32]\n"
     ]
    }
   ],
   "source": [
    "def handle_missing_values_mean(data):\n",
    "    # Transpose the data to access columns easily\n",
    "    cols = list(zip(*data))\n",
    "    filled_cols = []\n",
    "\n",
    "    for col in cols:\n",
    "        # Extract non-None values\n",
    "        valid = [v for v in col if v is not None]\n",
    "        mean_val = sum(valid) / len(valid)\n",
    "\n",
    "        # Replace None with mean\n",
    "        filled_col = [v if v is not None else mean_val for v in col]\n",
    "        filled_cols.append(filled_col)\n",
    "\n",
    "    # Transpose back to row format\n",
    "    return [list(row) for row in zip(*filled_cols)]\n",
    "\n",
    "data_cleaned = handle_missing_values_mean(data)\n",
    "\n",
    "print(\"After handling missing values:\")\n",
    "for row in data_cleaned:\n",
    "    print(row)\n"
   ]
  },
  {
   "cell_type": "code",
   "execution_count": 5,
   "id": "32a77760-a2ca-4ce2-8cca-40872b7705ac",
   "metadata": {},
   "outputs": [
    {
     "name": "stdout",
     "output_type": "stream",
     "text": [
      "\n",
      "After Min-Max Normalization:\n",
      "[0.5, 0.3333333333333333, 0.0]\n",
      "[0.0, 0.6666666666666666, 0.5]\n",
      "[1.0, 0.5, 1.0]\n",
      "[0.25, 0.0, 0.3]\n",
      "[0.75, 1.0, 0.7]\n"
     ]
    }
   ],
   "source": [
    "def min_max_normalize(data):\n",
    "    cols = list(zip(*data))  # Transpose\n",
    "\n",
    "    normalized_cols = []\n",
    "    for col in cols:\n",
    "        min_val = min(col)\n",
    "        max_val = max(col)\n",
    "        norm_col = [(x - min_val) / (max_val - min_val) for x in col]\n",
    "        normalized_cols.append(norm_col)\n",
    "\n",
    "    return [list(row) for row in zip(*normalized_cols)]\n",
    "\n",
    "data_normalized = min_max_normalize(data_cleaned)\n",
    "\n",
    "print(\"\\nAfter Min-Max Normalization:\")\n",
    "for row in data_normalized:\n",
    "    print(row)\n"
   ]
  },
  {
   "cell_type": "code",
   "execution_count": 7,
   "id": "e8e7bbbd-f7d6-421a-b32c-278c734370cb",
   "metadata": {},
   "outputs": [
    {
     "name": "stdout",
     "output_type": "stream",
     "text": [
      "\n",
      "After Z-Score Standardization:\n",
      "[0.0, -0.5, -1.4680505487867588]\n",
      "[-1.414213562373095, 0.5, 0.0]\n",
      "[1.414213562373095, 0.0, 1.4680505487867588]\n",
      "[-0.7071067811865475, -1.5, -0.5872202195147035]\n",
      "[0.7071067811865475, 1.5, 0.5872202195147035]\n"
     ]
    }
   ],
   "source": [
    "import math\n",
    "\n",
    "def z_score_standardize(data):\n",
    "    cols = list(zip(*data))  # Transpose\n",
    "\n",
    "    standardized_cols = []\n",
    "    for col in cols:\n",
    "        mean_val = sum(col) / len(col)\n",
    "        std_dev = math.sqrt(sum((x - mean_val) ** 2 for x in col) / len(col))\n",
    "        std_col = [(x - mean_val) / std_dev for x in col]\n",
    "        standardized_cols.append(std_col)\n",
    "\n",
    "    return [list(row) for row in zip(*standardized_cols)]\n",
    "\n",
    "data_standardized = z_score_standardize(data_cleaned)\n",
    "\n",
    "print(\"\\nAfter Z-Score Standardization:\")\n",
    "for row in data_standardized:\n",
    "    print(row)\n"
   ]
  },
  {
   "cell_type": "code",
   "execution_count": null,
   "id": "f0030352-1a76-4e3c-80b7-623c9c85c4cc",
   "metadata": {},
   "outputs": [],
   "source": []
  }
 ],
 "metadata": {
  "kernelspec": {
   "display_name": "Python [conda env:base] *",
   "language": "python",
   "name": "conda-base-py"
  },
  "language_info": {
   "codemirror_mode": {
    "name": "ipython",
    "version": 3
   },
   "file_extension": ".py",
   "mimetype": "text/x-python",
   "name": "python",
   "nbconvert_exporter": "python",
   "pygments_lexer": "ipython3",
   "version": "3.11.11"
  }
 },
 "nbformat": 4,
 "nbformat_minor": 5
}
