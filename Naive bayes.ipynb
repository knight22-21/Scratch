{
 "cells": [
  {
   "cell_type": "code",
   "execution_count": 5,
   "id": "acfe2c26-0f32-40c4-a696-7d8394012c2a",
   "metadata": {},
   "outputs": [],
   "source": [
    "import numpy as np\n",
    "from collections import defaultdict"
   ]
  },
  {
   "cell_type": "code",
   "execution_count": 27,
   "id": "bb90b93f-e9ab-4614-b7b2-d6f5dae0e8b4",
   "metadata": {},
   "outputs": [],
   "source": [
    "class GNB:\n",
    "    def __init__(self):\n",
    "        self.classes=None\n",
    "        self.class_prior={}\n",
    "        self.class_stats={}\n",
    "\n",
    "    def fit(self,X,y):\n",
    "        self.classes=np.unique(y)\n",
    "\n",
    "        for cls in self.classes:\n",
    "            X_c=X[y == cls]\n",
    "            self.class_prior[cls]= len(X_c)/len(X)\n",
    "            self.class_stats[cls]= {\n",
    "                \"mean\" : np.mean(X_c, axis=0),\n",
    "                \"var\" : np.var(X_c, axis=0) + 1e-9\n",
    "            }\n",
    "\n",
    "    def gaussian_pdf(self,x,mean,var):\n",
    "        num = np.exp(-(x-mean)**2 /(2*var))\n",
    "        den = np.sqrt(2*np.pi*var)\n",
    "        return num/den\n",
    "\n",
    "    def _predict(self,x):\n",
    "        log_prob={}\n",
    "        for cls in self.classes:\n",
    "            prior = np.log(self.class_prior[cls])\n",
    "            likelihood = np.sum(np.log(self.gaussian_pdf(x,self.class_stats[cls][\"mean\"],self.class_stats[cls][\"var\"])))\n",
    "            log_prob[cls] = prior+likelihood\n",
    "        return max(log_prob, key=log_prob.get)\n",
    "\n",
    "    def predict(self,x):\n",
    "        return np.array([self._predict(x_) for x_ in x])\n",
    "\n"
   ]
  },
  {
   "cell_type": "code",
   "execution_count": 29,
   "id": "1b236ade-5e5b-4079-aad5-53f198aa6bc2",
   "metadata": {},
   "outputs": [
    {
     "name": "stdout",
     "output_type": "stream",
     "text": [
      "Predictions: [0 1]\n"
     ]
    }
   ],
   "source": [
    "# Example dataset\n",
    "X_train = np.array([[1.0, 2.1], [1.5, 1.8], [5.2, 7.3], [6.0, 6.8]])\n",
    "y_train = np.array([0, 0, 1, 1])\n",
    "\n",
    "X_test = np.array([[1.2, 2.0], [5.8, 7.0]])\n",
    "\n",
    "model = GNB()\n",
    "model.fit(X_train, y_train)\n",
    "predictions = model.predict(X_test)\n",
    "\n",
    "print(\"Predictions:\", predictions)\n"
   ]
  },
  {
   "cell_type": "code",
   "execution_count": null,
   "id": "0b6f2e45-1bf5-4af6-92ee-48c8789a35bc",
   "metadata": {},
   "outputs": [],
   "source": []
  }
 ],
 "metadata": {
  "kernelspec": {
   "display_name": "Python [conda env:base] *",
   "language": "python",
   "name": "conda-base-py"
  },
  "language_info": {
   "codemirror_mode": {
    "name": "ipython",
    "version": 3
   },
   "file_extension": ".py",
   "mimetype": "text/x-python",
   "name": "python",
   "nbconvert_exporter": "python",
   "pygments_lexer": "ipython3",
   "version": "3.11.11"
  }
 },
 "nbformat": 4,
 "nbformat_minor": 5
}
