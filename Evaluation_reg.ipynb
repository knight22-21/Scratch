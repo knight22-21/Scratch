{
 "cells": [
  {
   "cell_type": "code",
   "execution_count": 1,
   "id": "539f4e2e-5fa5-46e3-b848-a5eebfc31835",
   "metadata": {},
   "outputs": [],
   "source": [
    "# Actual values\n",
    "y_true = [3, -0.5, 2, 7]\n",
    "\n",
    "# Predicted values\n",
    "y_pred = [2.5, 0.0, 2, 8]\n"
   ]
  },
  {
   "cell_type": "code",
   "execution_count": 3,
   "id": "ec6ff54c-0f3a-418e-83aa-15e46147c7d3",
   "metadata": {},
   "outputs": [
    {
     "name": "stdout",
     "output_type": "stream",
     "text": [
      "MSE: 0.375\n",
      "RMSE: 0.6123724356957945\n",
      "MAE: 0.5\n",
      "R² Score: 0.9486081370449679\n",
      "Adjusted R² Score: 0.9229122055674519\n"
     ]
    }
   ],
   "source": [
    "def mean_squared_error(y_true, y_pred):\n",
    "    n = len(y_true)\n",
    "    squared_errors = [(y_true[i] - y_pred[i]) ** 2 for i in range(n)]\n",
    "    return sum(squared_errors) / n\n",
    "\n",
    "def root_mean_squared_error(y_true, y_pred):\n",
    "    mse = mean_squared_error(y_true, y_pred)\n",
    "    return mse ** 0.5\n",
    "\n",
    "def mean_absolute_error(y_true, y_pred):\n",
    "    n = len(y_true)\n",
    "    absolute_errors = [abs(y_true[i] - y_pred[i]) for i in range(n)]\n",
    "    return sum(absolute_errors) / n\n",
    "\n",
    "def r2_score(y_true, y_pred):\n",
    "    mean_y = sum(y_true) / len(y_true)\n",
    "    ss_total = sum([(y - mean_y) ** 2 for y in y_true])\n",
    "    ss_res = sum([(y_true[i] - y_pred[i]) ** 2 for i in range(len(y_true))])\n",
    "    return 1 - (ss_res / ss_total)\n",
    "\n",
    "def adjusted_r2_score(y_true, y_pred, k):\n",
    "    \"\"\"\n",
    "    k: number of independent features used in the model\n",
    "    \"\"\"\n",
    "    n = len(y_true)\n",
    "    r2 = r2_score(y_true, y_pred)\n",
    "    return 1 - ((1 - r2) * (n - 1)) / (n - k - 1)\n",
    "\n",
    "# Example usage:\n",
    "y_true = [3, -0.5, 2, 7]\n",
    "y_pred = [2.5, 0.0, 2, 8]\n",
    "num_features = 1  # Change based on your model\n",
    "\n",
    "print(\"MSE:\", mean_squared_error(y_true, y_pred))\n",
    "print(\"RMSE:\", root_mean_squared_error(y_true, y_pred))\n",
    "print(\"MAE:\", mean_absolute_error(y_true, y_pred))\n",
    "print(\"R² Score:\", r2_score(y_true, y_pred))\n",
    "print(\"Adjusted R² Score:\", adjusted_r2_score(y_true, y_pred, num_features))\n"
   ]
  },
  {
   "cell_type": "code",
   "execution_count": null,
   "id": "b2f99997-a231-4c64-93fe-33a9a1ade9e2",
   "metadata": {},
   "outputs": [],
   "source": []
  }
 ],
 "metadata": {
  "kernelspec": {
   "display_name": "Python [conda env:base] *",
   "language": "python",
   "name": "conda-base-py"
  },
  "language_info": {
   "codemirror_mode": {
    "name": "ipython",
    "version": 3
   },
   "file_extension": ".py",
   "mimetype": "text/x-python",
   "name": "python",
   "nbconvert_exporter": "python",
   "pygments_lexer": "ipython3",
   "version": "3.11.11"
  }
 },
 "nbformat": 4,
 "nbformat_minor": 5
}
